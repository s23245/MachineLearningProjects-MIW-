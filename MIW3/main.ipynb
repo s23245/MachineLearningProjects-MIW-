{
 "cells": [
  {
   "cell_type": "code",
   "execution_count": 202,
   "metadata": {
    "collapsed": true
   },
   "outputs": [],
   "source": [
    "import numpy as np\n",
    "import matplotlib.pyplot as plt"
   ]
  },
  {
   "cell_type": "code",
   "execution_count": 203,
   "metadata": {},
   "outputs": [],
   "source": [
    "t_mat = np.ones((3, 3)) # rock, paper, scissors\n",
    "mat_result = [      # row: user choice, col: ai choice\n",
    "    [0, 1, -1],     # rock\n",
    "    [-1, 0, 1],      # paper\n",
    "    [1, -1, 0]      # scissors\n",
    "]\n",
    "prev_move = 0   # the first computer move will always be 'rock', simplifies logic\n",
    "variants = np.array([0, 1, 2])\n",
    "iter = 10   # total iterations"
   ]
  },
  {
   "cell_type": "code",
   "execution_count": 204,
   "metadata": {},
   "outputs": [],
   "source": [
    "my_steps = []\n",
    "with open('my_steps.data') as f:\n",
    "    my_steps = [int(line) for line in f]"
   ]
  },
  {
   "cell_type": "code",
   "execution_count": 205,
   "metadata": {},
   "outputs": [],
   "source": [
    "def index_to_win(choice): # choice == 0 -> 1, choice == 1 -> 2, choice == 2 -> 0\n",
    "    return choice + 1 if choice != 2 else 0"
   ]
  },
  {
   "cell_type": "code",
   "execution_count": 206,
   "metadata": {},
   "outputs": [],
   "source": [
    "win_loss_list = np.zeros((iter,))\n",
    "for i in range(iter):\n",
    "    win_loss = 0\n",
    "    for my_choice in my_steps:\n",
    "        pred = np.random.choice(variants, p = t_mat[prev_move] / t_mat[prev_move].sum())\n",
    "        win_loss += mat_result[my_choice][index_to_win(pred)] # [my_choice][ai_choice]\n",
    "        t_mat[prev_move][my_choice] += 1\n",
    "        prev_move = my_choice\n",
    "    win_loss_list[i] = win_loss\n",
    "win_loss_list /= len(my_steps)"
   ]
  },
  {
   "cell_type": "code",
   "execution_count": 207,
   "metadata": {},
   "outputs": [
    {
     "data": {
      "text/plain": [
       "[<matplotlib.lines.Line2D at 0x107ab0f70>]"
      ]
     },
     "execution_count": 207,
     "metadata": {},
     "output_type": "execute_result"
    },
    {
     "data": {
      "image/png": "[encoded data removed]",
      "text/plain": [
       "<Figure size 432x288 with 1 Axes>"
      ]
     },
     "metadata": {
      "needs_background": "light"
     },
     "output_type": "display_data"
    }
   ],
   "source": [
    "plt.ylim([0, 1])\n",
    "plt.axhline(y=0.5, color='r', linestyle='--')\n",
    "plt.plot(win_loss_list, 'b')"
   ]
  }
 ],
 "metadata": {
  "kernelspec": {
   "display_name": "Python 3",
   "language": "python",
   "name": "python3"
  },
  "language_info": {
   "codemirror_mode": {
    "name": "ipython",
    "version": 3
   },
   "file_extension": ".py",
   "mimetype": "text/x-python",
   "name": "python",
   "nbconvert_exporter": "python",
   "pygments_lexer": "ipython3",
   "version": "3.9.10"
  }
 },
 "nbformat": 4,
 "nbformat_minor": 0
}
